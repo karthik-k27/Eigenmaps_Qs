{
  "nbformat": 4,
  "nbformat_minor": 0,
  "metadata": {
    "colab": {
      "name": "EIGENMAPS_ASSIGNMENT",
      "provenance": [],
      "authorship_tag": "ABX9TyPlaKFRGtWEiLAwsiXPJlcs",
      "include_colab_link": true
    },
    "kernelspec": {
      "name": "python3",
      "display_name": "Python 3"
    },
    "language_info": {
      "name": "python"
    }
  },
  "cells": [
    {
      "cell_type": "markdown",
      "metadata": {
        "id": "view-in-github",
        "colab_type": "text"
      },
      "source": [
        "<a href=\"https://colab.research.google.com/github/karthik-k27/Eigenmaps_Qs/blob/main/EIGENMAPS_ASSIGNMENT.ipynb\" target=\"_parent\"><img src=\"https://colab.research.google.com/assets/colab-badge.svg\" alt=\"Open In Colab\"/></a>"
      ]
    },
    {
      "cell_type": "markdown",
      "source": [
        "1. Write down the Python Code:\n",
        "A flight company has to schedule a journey of N groups of people from the same source to the\n",
        "same destination. Here, A1, A2, ..., AN represents the number of people in each group. All\n",
        "groups are present at the source. The flight company has M planes where B1, B2, ..., Bm\n",
        "represents the capacity of each plane.\n",
        "You are required to send all groups to destination with the following conditions:\n",
        "1. Each plane can travel from the Source to Destination with only one group at a time such\n",
        "that the capacity of a plane is enough to accommodate all people in that group.\n",
        "2. All people belonging to the same group travel together.\n",
        "3. Every plane can make multiple journeys between source and destination.\n",
        "4. It costs 1 unit of time to travel between source to destination and vice versa.\n",
        "Note: Multiple planes can fly together and also it is not necessary for planes to end their journey\n",
        "at the source.\n",
        "Determine the minimum time required to send all groups from the source to the destination.\n",
        "Input: The number of groups N, the people in each group, the number planes M, and the capacity\n",
        "of each plan\n",
        "For example, N = 4 and M = 3.\n",
        "8, 1, 6, 9 are the number of people in each of the 4 groups\n",
        "7, 3, 2 is the capacity of each plane of 3 planes\n",
        "Output: The minimum time required to send all the groups to the destination\n",
        "\n"
      ],
      "metadata": {
        "id": "F-l2er4AzQC7"
      }
    },
    {
      "cell_type": "code",
      "source": [
        " "
      ],
      "metadata": {
        "id": "bD5LrdM2Lr8b"
      },
      "execution_count": null,
      "outputs": []
    },
    {
      "cell_type": "code",
      "execution_count": null,
      "metadata": {
        "colab": {
          "base_uri": "https://localhost:8080/"
        },
        "id": "vkLzo_q3zGzl",
        "outputId": "d74bfd90-7974-47bb-94bd-498762b0e8e9"
      },
      "outputs": [
        {
          "output_type": "stream",
          "name": "stdout",
          "text": [
            "Karthik\n",
            "3\n"
          ]
        }
      ],
      "source": [
        "# Python3 implementation of the approach\n",
        " \n",
        "# Function that returns true if it is\n",
        "# possible to transport all the boxes\n",
        "# in the given amount of time\n",
        "def isPossible(box, truck, n, m, min_time) :\n",
        "     \n",
        "    temp = 0\n",
        "    count = 0\n",
        " \n",
        "    while (count < m) :\n",
        "        j = 0\n",
        "        while (j < min_time and temp < n and\n",
        "                    truck[count] >= box[temp] ):\n",
        "            temp +=1\n",
        "            j += 2\n",
        " \n",
        "        count += 1\n",
        " \n",
        "    # If all the boxes can be\n",
        "    # transported in the given time\n",
        "    if (temp == n) :\n",
        "        return True\n",
        " \n",
        "    # If all the boxes can't be\n",
        "    # transported in the given time\n",
        "    return False\n",
        " \n",
        "# Function to return the minimum time required\n",
        "def minTime(box, truck, n, m) :\n",
        " \n",
        "    # Sort the two arrays\n",
        "    box.sort()\n",
        "    truck.sort()\n",
        " \n",
        "    l = 0\n",
        "    h = 2 * n\n",
        " \n",
        "    # Stores minimum time in which\n",
        "    # all the boxes can be transported\n",
        "    min_time = 0\n",
        " \n",
        "    # Check for the minimum time in which\n",
        "    # all the boxes can be transported\n",
        "    while (l <= h) :\n",
        "        mid = (l + h) // 2\n",
        " \n",
        "        # If it is possible to transport all\n",
        "        # the boxes in mid amount of time\n",
        "        if (isPossible(box, truck, n, m, mid)) :\n",
        "            min_time = mid\n",
        "            h = mid - 1\n",
        "     \n",
        "        else :\n",
        "             \n",
        "            l = mid + 1\n",
        " \n",
        "    return min_time\n",
        " \n",
        "# Driver code\n",
        "'''\n",
        "if __name__ == \"_main_\":\n",
        " \n",
        "    box = [ 10, 2, 16, 19 ]\n",
        "    truck = [ 29, 25 ]\n",
        " \n",
        "    n = len(box)\n",
        "    m = len(truck)\n",
        "\n",
        "    print(n)\n",
        "    print(minTime(box, truck, n, m))\n",
        "'''\n",
        "print(\"Karthik\")\n",
        "box = [ 10, 2, 16, 19 ]\n",
        "truck = [ 29, 25 ]\n",
        "\n",
        "n = len(box)\n",
        "m = len(truck)\n",
        "#print(n)\n",
        "print(minTime(box, truck, n, m))"
      ]
    },
    {
      "cell_type": "markdown",
      "source": [
        "2. Answer the following questions:\n",
        "Alice loves candies, so she went into a candy shop. Now the shopkeeper sells candies in\n",
        "packets and all packets contain an odd number of candies (1, 3, 5, 7.....). Alice wants exactly N\n",
        "candies but she also loves patterns so she decided to buy candies only if the number of candies\n",
        "in the packets is consecutive and distinct (means she cannot buy the same candy packet more\n",
        "than once) and the sum of all the candies in those packets is exactly N\n",
        "Alice has an infinite amount of money and the shopkeeper also has an infinite amount of candy\n",
        "packets, so Alice wonders how many different sets of candy packets she can buy.\n",
        "Find the number of different sets of candy packets that Alice can buy.\n",
        "Input format\n",
        "The first and the only line contains a single integer\n",
        "N (1≤N≤1000000000)\n",
        "Output format\n",
        "Print a single integer denoting the number of different sets of candy packets Alice can buy.\n"
      ],
      "metadata": {
        "id": "BCKLuPLTzi8n"
      }
    },
    {
      "cell_type": "code",
      "source": [
        "num=int(input('enter number: '))\n",
        "\n",
        "sets=0\n",
        "\n",
        "for p in range(100000):\n",
        "\tif (num%(p+1))==0:\n",
        "\t\tn=(num/(p+1))-p\n",
        "\n",
        "\tif n>=0 and n%2!=0:\n",
        "\t\tsets=sets+1\n",
        "\t\tprint(num)\n",
        "\telif n<0:\n",
        "\t\tbreak\n",
        "\n",
        "print(sets)"
      ],
      "metadata": {
        "colab": {
          "base_uri": "https://localhost:8080/"
        },
        "id": "rHqdhhhYzrIo",
        "outputId": "6d6f82d6-66be-42f5-dd13-78229cdb8ba9"
      },
      "execution_count": null,
      "outputs": [
        {
          "output_type": "stream",
          "name": "stdout",
          "text": [
            "enter number: 2\n",
            "0\n"
          ]
        }
      ]
    },
    {
      "cell_type": "markdown",
      "source": [
        "3. Write down a Python program to calculate the factorial of a given integer.\n",
        "Calculate the factorial using recursion and call the factorial function using thread\n"
      ],
      "metadata": {
        "id": "KPH13SAVzt-i"
      }
    },
    {
      "cell_type": "code",
      "source": [
        "# Python 3 program to find\n",
        "# factorial of given number\n",
        "def factorial(n):\n",
        "\t\n",
        "\t# single line to find factorial\n",
        "\treturn 1 if (n==1 or n==0) else n * factorial(n - 1);\n",
        "\n",
        "# Driver Code\n",
        "num = 5;\n",
        "print(\"Factorial of\",num,\"is\",\n",
        "factorial(num))\n",
        "\n",
        "# This code is contributed by Smitha Dinesh Semwal\n"
      ],
      "metadata": {
        "id": "PcXB886e6LMa",
        "outputId": "f99eefee-eb36-44a5-9fbb-bcfbe188df6d",
        "colab": {
          "base_uri": "https://localhost:8080/"
        }
      },
      "execution_count": null,
      "outputs": [
        {
          "output_type": "stream",
          "name": "stdout",
          "text": [
            "Factorial of 5 is 120\n"
          ]
        }
      ]
    },
    {
      "cell_type": "code",
      "source": [
        "# Python program to find the factorial of a number provided by the user.\n",
        "\n",
        "# change the value for a different result\n",
        "num = 7\n",
        "\n",
        "# To take input from the user\n",
        "#num = int(input(\"Enter a number: \"))\n",
        "\n",
        "factorial = 1\n",
        "\n",
        "# check if the number is negative, positive or zero\n",
        "if num < 0:\n",
        "   print(\"Sorry, factorial does not exist for negative numbers\")\n",
        "elif num == 0:\n",
        "   print(\"The factorial of 0 is 1\")\n",
        "else:\n",
        "   for i in range(1,num + 1):\n",
        "       factorial = factorial*i\n",
        "   print(\"The factorial of\",num,\"is\",factorial)"
      ],
      "metadata": {
        "colab": {
          "base_uri": "https://localhost:8080/"
        },
        "id": "SxFo7Kwpzwic",
        "outputId": "ee18c9ae-fc13-46f1-e9fa-7f24c6008b47"
      },
      "execution_count": null,
      "outputs": [
        {
          "output_type": "stream",
          "name": "stdout",
          "text": [
            "The factorial of 7 is 5040\n"
          ]
        }
      ]
    },
    {
      "cell_type": "code",
      "source": [
        "# Python program to find the factorial of a number provided by the user\n",
        "# using recursion\n",
        "\n",
        "def factorial(x):\n",
        "    \"\"\"This is a recursive function\n",
        "    to find the factorial of an integer\"\"\"\n",
        "\n",
        "    if x == 1:\n",
        "        return 1\n",
        "    else:\n",
        "        # recursive call to the function\n",
        "        return (x * factorial(x-1))\n",
        "\n",
        "\n",
        "# change the value for a different result\n",
        "num = 7\n",
        "\n",
        "# to take input from the user\n",
        "# num = int(input(\"Enter a number: \"))\n",
        "\n",
        "# call the factorial function\n",
        "result = factorial(num)\n",
        "print(\"The factorial of\", num, \"is\", result)"
      ],
      "metadata": {
        "colab": {
          "base_uri": "https://localhost:8080/"
        },
        "id": "Y23EWTxq5sa1",
        "outputId": "892560a1-42fb-41c3-8b2c-29357aca46cc"
      },
      "execution_count": null,
      "outputs": [
        {
          "output_type": "stream",
          "name": "stdout",
          "text": [
            "The factorial of 7 is 5040\n"
          ]
        }
      ]
    },
    {
      "cell_type": "markdown",
      "source": [
        "4. Computer Vision Open-Book Assignment (Please use internet to solve this\n",
        "problem)\n",
        "Step 1: Please go to the following website and implement the algorithms mentioned in this\n",
        "page: https://github.com/theAIGuysCode/yolov4-deepsort\n",
        "Step 2: Send us the resulting video along with your code\n",
        "Step 3: During the interview, we will discuss the YoloV4 and DeepSort Algorithms along with\n",
        "the Python Code\n",
        "Step 4: Build an API that would respond with the number of objects in the given video\n",
        "References:\n",
        "https://github.com/nwojke/deep_sort"
      ],
      "metadata": {
        "id": "k5UjQaMUzxXU"
      }
    },
    {
      "cell_type": "markdown",
      "source": [
        "https://drive.google.com/file/d/1EiJPcf_BMyH7mK-w2nFIWdAF-Ty5-_Zh/view?usp=sharing"
      ],
      "metadata": {
        "id": "E7PPK5lbHWoK"
      }
    },
    {
      "cell_type": "code",
      "source": [
        ""
      ],
      "metadata": {
        "id": "3FIdOWPBEaCO"
      },
      "execution_count": null,
      "outputs": []
    }
  ]
}